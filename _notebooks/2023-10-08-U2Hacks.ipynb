{
 "cells": [
  {
   "cell_type": "markdown",
   "metadata": {},
   "source": [
    "---\n",
    "layout: post\n",
    "title: Krishiv Mahendru Hacks UNIT 2\n",
    "description: classes lesson\n",
    "type: tangibles\n",
    "courses: { csa: {week: 7}}\n",
    "---"
   ]
  },
  {
   "cell_type": "markdown",
   "metadata": {},
   "source": [
    "# Overall Reflection \n",
    "- I found that these hacks were pretty tedious and long, also by far hardest part for me was trying to do #2 as it had many parts and a lot of syntax used with the math function. However I feel like i got a better understanding of contents within unit as I tried my best and tried to display origniality."
   ]
  },
  {
   "cell_type": "code",
   "execution_count": 19,
   "metadata": {
    "vscode": {
     "languageId": "java"
    }
   },
   "outputs": [
    {
     "name": "stdout",
     "output_type": "stream",
     "text": [
      "Added 40 to the soccer list\n",
      "Added 77 to the soccer list\n",
      "Added 33 to the soccer list\n",
      "Index isn't allowed to the soccer list \n"
     ]
    }
   ],
   "source": [
    "import java.util.ArrayList;\n",
    "\n",
    "public class UnitTwoOne {\n",
    "    private ArrayList<Integer> integerList = new ArrayList<>();\n",
    "// usage of a wrapper class part of lesson in 2.8\n",
    "    public void AddNumber(int number) {\n",
    "        integerList.add(number);\n",
    "        System.out.println(\"Added \" + number + \" to the soccer list\");\n",
    "        // void method so no usage of return.\n",
    "    }\n",
    "\n",
    "    public int IndexInt(int index) {\n",
    "        if (index >= 0 && index < integerList.size()) {\n",
    "            int value = integerList.get(index);\n",
    "            System.out.println(\"Value at index \" + index + \" is \" + value);\n",
    "            return value;//return method to get a number\n",
    "        } else {\n",
    "            System.out.println(\"Index isn't allowed to the soccer list \");\n",
    "            return -1;// if integer isnt larger than the list size its out of the range. \n",
    "        }\n",
    "    }\n",
    "\n",
    "    public static void main(String[] args) {\n",
    "        UnitTwoOne unitTwoOne = new UnitTwoOne();\n",
    "        unitTwoOne.AddNumber(40);\n",
    "        unitTwoOne.AddNumber(77);\n",
    "        unitTwoOne.AddNumber(33);\n",
    "        unitTwoOne.IndexInt(3);\n",
    "    }\n",
    "}\n",
    "UnitTwoOne.main(null);\n"
   ]
  },
  {
   "cell_type": "code",
   "execution_count": 20,
   "metadata": {
    "vscode": {
     "languageId": "java"
    }
   },
   "outputs": [
    {
     "name": "stdout",
     "output_type": "stream",
     "text": [
      "Welcome to the Exponent and Root Guessing Game!\n",
      "You have to guess the exponent and root of a random number.\n",
      "Here's a hint: The number is between 0 and 100.\n",
      "Enter your guess for the exponent: Enter your guess for the root: Incorrect. Try again!\n",
      "Enter your guess for the exponent: Enter your guess for the root: Incorrect. Try again!\n",
      "Enter your guess for the exponent: Enter your guess for the root: Incorrect. Try again!\n",
      "Enter your guess for the exponent: Enter your guess for the root: Incorrect. Try again!\n",
      "Enter your guess for the exponent: Enter your guess for the root: Congratulations! You've guessed the exponent and root correctly!\n"
     ]
    }
   ],
   "source": [
    "import java.util.Random;\n",
    "import java.util.Scanner;\n",
    "\n",
    "public class Hack2Game {\n",
    "    private static Random random = new Random();\n",
    "    private double number;\n",
    "    private int exponent;\n",
    "    private int root;\n",
    "\n",
    "    public Hack2Game() {\n",
    "        number = generateRandomNumber();\n",
    "        exponent = random.nextInt(5) + 2;  //  tHis is setting up Random exponent from 2 to 6\n",
    "        root = random.nextInt(3) + 2;      // also this is setting up Random root from 2 to 4\n",
    "    }\n",
    "\n",
    "    public double generateRandomNumber() {\n",
    "        return random.nextDouble() * 100;  //  Generates a random number from 1-100\n",
    "    }\n",
    "\n",
    "    public void playGame() {\n",
    "        System.out.println(\" Hack 2:Exponent and Root Guessing Game\");//system create the prompt\n",
    "        System.out.println(\" guess the exponent and root of a random number.\");//ask question\n",
    "        System.out.println(\" hint: The number is between 0 and 100.\");//hint in order to help the person out\n",
    "\n",
    "        Scanner scanner = new Scanner(System.in);\n",
    "        int guessExponent;\n",
    "        int guessRoot;\n",
    "\n",
    "        do {\n",
    "            System.out.print(\"Enter your guess for the exponent: \");\n",
    "            guessExponent = scanner.nextInt();\n",
    "\n",
    "            System.out.print(\"Enter your guess for the root: \");\n",
    "            guessRoot = scanner.nextInt();\n",
    "\n",
    "            if (guessExponent == exponent && guessRoot == root) {\n",
    "                System.out.println(\"Congratulations! You've guessed the exponent and root correctly!\");\n",
    "                break;\n",
    "            } else {\n",
    "                System.out.println(\"Incorrect. Try again!\");\n",
    "            }\n",
    "        } while (true);\n",
    "\n",
    "        scanner.close();\n",
    "    }\n",
    "\n",
    "    public static void main(String[] args) {\n",
    "        Hack2Game game = new Hack2Game();\n",
    "        game.playGame();\n",
    "    }\n",
    "}\n",
    "\n",
    "Hack2Game.main(null);"
   ]
  },
  {
   "cell_type": "code",
   "execution_count": 4,
   "metadata": {
    "vscode": {
     "languageId": "java"
    }
   },
   "outputs": [
    {
     "name": "stdout",
     "output_type": "stream",
     "text": [
      "Jersey Number: 22\n",
      "Is Captain: false\n",
      "Player Name: Krishiv the Best\n",
      "Height (meters): 1.82\n",
      "Career Goals: 20\n"
     ]
    }
   ],
   "source": [
    "public class SoccerExampleHack3 {\n",
    "    public static class SoccerPlayer {\n",
    "        private int jerseyNumber;\n",
    "        private boolean isCaptain;\n",
    "        private String playerName;\n",
    "        private double heightInMeters;\n",
    "        private int careerGoals;// this is used to setup and define all 5 \n",
    "\n",
    "        public SoccerPlayer(int jerseyNumber, boolean isCaptain, String playerName, double heightInMeters, int careerGoals) {// Initialize the variables \n",
    "            this.jerseyNumber = jerseyNumber;\n",
    "            this.isCaptain = isCaptain;\n",
    "            this.playerName = playerName;\n",
    "            this.heightInMeters = heightInMeters;\n",
    "            this.careerGoals = careerGoals;\n",
    "        }\n",
    "// Getter methods in order for each variable  and type \n",
    "        public int getJerseyNumber() {\n",
    "            return jerseyNumber;\n",
    "        }\n",
    "\n",
    "        public boolean isCaptain() {\n",
    "            return isCaptain;\n",
    "        }\n",
    "\n",
    "        public String getPlayerName() {\n",
    "            return playerName;\n",
    "        }\n",
    "\n",
    "        public double getHeightInMeters() {\n",
    "            return heightInMeters;\n",
    "        }\n",
    "\n",
    "        public int getCareerGoals() {\n",
    "            return careerGoals;\n",
    "        }\n",
    "    }\n",
    "\n",
    "    public static void main(String[] args) {\n",
    "        // Sample data of me in order to make sure you can acess the data.\n",
    "        SoccerPlayer player = new SoccerPlayer(22, false, \"Krishiv the Best\", 1.82, 20);\n",
    "\n",
    "        // Access and display the player's information\n",
    "        System.out.println(\"Jersey Number: \" + player.getJerseyNumber());\n",
    "        System.out.println(\"Is Captain: \" + player.isCaptain());\n",
    "        System.out.println(\"Player Name: \" + player.getPlayerName());\n",
    "        System.out.println(\"Height (meters): \" + player.getHeightInMeters());\n",
    "        System.out.println(\"Career Goals: \" + player.getCareerGoals());// All variables in order to print data, meters was used as ft is a bit hard to work with\n",
    "    }\n",
    "}\n",
    "SoccerExampleHack3.main(null);"
   ]
  },
  {
   "cell_type": "code",
   "execution_count": null,
   "metadata": {
    "vscode": {
     "languageId": "java"
    }
   },
   "outputs": [],
   "source": [
    "public class FirstLast {\n",
    "    private String fullName;\n",
    "\n",
    "    public FirstLast(String fullName) {\n",
    "        this.fullName = fullName;\n",
    "    }\n",
    "\n",
    "    public String getFirstName() {\n",
    "        String firstName = \"\";// empty string to start of \n",
    "        for (int i = 0; i < fullName.length(); i++) {\n",
    "            char currentChar = fullName.charAt(i);\n",
    "            if (currentChar == ' ') {\n",
    "                break; // this line allows for a space between first/lastname \n",
    "            }\n",
    "            firstName += currentChar;\n",
    "        }\n",
    "        return firstName;\n",
    "    }\n",
    "\n",
    "    public String getLastName() {\n",
    "        String lastName = \"\";\n",
    "        boolean foundSpace = false;\n",
    "        for (int i = 0; i < fullName.length(); i++) {// loop to check throug hthe lenght and itterate through the code\n",
    "            char currentChar = fullName.charAt(i);\n",
    "            if (currentChar == ' ') {\n",
    "                foundSpace = true;\n",
    "            } else if (foundSpace) {\n",
    "                lastName += currentChar;\n",
    "            }\n",
    "        }\n",
    "        return lastName;\n",
    "    }\n",
    "\n",
    "    public static void main(String[] args) {\n",
    "        FirstLast person = new FirstLast(\"Krishiv Mahendru\");// Sample data of me \n",
    "\n",
    "        System.out.println(\"First Name: \" + person.getFirstName()); \n",
    "        System.out.println(\"Last Name: \" + person.getLastName());  \n",
    "    }\n",
    "}\n"
   ]
  }
 ],
 "metadata": {
  "kernelspec": {
   "display_name": "Java",
   "language": "java",
   "name": "java"
  },
  "language_info": {
   "codemirror_mode": "java",
   "file_extension": ".jshell",
   "mimetype": "text/x-java-source",
   "name": "Java",
   "pygments_lexer": "java",
   "version": "20.0.1"
  },
  "orig_nbformat": 4
 },
 "nbformat": 4,
 "nbformat_minor": 2
}
