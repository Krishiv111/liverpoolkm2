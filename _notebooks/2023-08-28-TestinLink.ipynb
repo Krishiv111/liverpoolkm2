{
 "cells": [
  {
   "cell_type": "markdown",
   "metadata": {},
   "source": [
    "---\n",
    "comments: true\n",
    "layout: post\n",
    "title: Krishiv's Week 2 Plan\n",
    "type: plans\n",
    "courses: { csa: {week: 2} }\n",
    "\n",
    "---"
   ]
  },
  {
   "cell_type": "markdown",
   "metadata": {},
   "source": [
    "# Monday\n",
    "### Goals: \n",
    "- Get Java To Work\n",
    "- Understand Lab Notebook\n",
    "- Fix YML file\n",
    "\n",
    "#### Summary\n",
    "- Today I was able to fix all my yml file and gain a better understanding of the lab notebook and linking everything together. However I had issues with java as I had an installation problem due to the fact that M"
   ]
  }
 ],
 "metadata": {
  "language_info": {
   "name": "python"
  },
  "orig_nbformat": 4
 },
 "nbformat": 4,
 "nbformat_minor": 2
}
