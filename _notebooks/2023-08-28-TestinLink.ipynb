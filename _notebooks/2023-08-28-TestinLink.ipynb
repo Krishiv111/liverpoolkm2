{
 "cells": [
  {
   "cell_type": "markdown",
   "metadata": {},
   "source": [
    "---\n",
    "comments: true\n",
    "layout: post\n",
    "title: Krishiv's Week 2 Plan\n",
    "description: A key to development in this class is the association VSCode to a GitHub pages project.  This is where students update assignments and present work.\n",
    "type: plans\n",
    "courses: { csa: {week: 2} }\n",
    "categories: [C4.1]\n",
    "---"
   ]
  }
 ],
 "metadata": {
  "language_info": {
   "name": "python"
  },
  "orig_nbformat": 4
 },
 "nbformat": 4,
 "nbformat_minor": 2
}
