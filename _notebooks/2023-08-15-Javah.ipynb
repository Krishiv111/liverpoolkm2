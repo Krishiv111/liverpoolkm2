{
 "cells": [
  {
   "cell_type": "markdown",
   "metadata": {},
   "source": [
    "---\n",
    "comments: true\n",
    "layout: post\n",
    "title: Java Hacks\n",
    "type: tangibles\n",
    "courses: { csa: {week: 2}}\n",
    "---"
   ]
  },
  {
   "cell_type": "markdown",
   "metadata": {},
   "source": [
    "# Java Hello"
   ]
  },
  {
   "cell_type": "code",
   "execution_count": 1,
   "metadata": {
    "vscode": {
     "languageId": "java"
    }
   },
   "outputs": [
    {
     "name": "stdout",
     "output_type": "stream",
     "text": [
      "Info:\n",
      "Player 1:\n",
      "name:Messi\n",
      "league:MLS\n",
      "position:LW\n",
      "\n",
      "Player 2:\n",
      "name:Ronaldo\n",
      "league:Saudi Pro\n",
      "position:ST\n",
      "\n"
     ]
    }
   ],
   "source": [
    "\n",
    "public class SoccerDynamic { // name the first letter of class as capitalized, note camel case\n",
    "    // instance variable have access modifier (private is most common), data type, and name\n",
    "    private String name;\n",
    "    private String league;\n",
    "    private String position;\n",
    "    // constructor signature 1, public and zero arguments, constructors do not have return type\n",
    "    public SoccerDynamic () {  // 0 argument constructor\n",
    "        this.name = \"Messi\";  // using setter with static string\n",
    "        this.league = \"MLS\";\n",
    "        this.position = \"LW\";\n",
    "    }\n",
    "    // constructor signature, public and one argument\n",
    "    public SoccerDynamic(String name, String league, String position) { // 1 argument constructor\n",
    "        this.name = name;\n",
    "        this.league = league;\n",
    "        this.position = position;   // using setter with local variable passed into constructor\n",
    "    }\n",
    "    // setter/mutator, setter have void return type and a parameter\n",
    "    public void setName(String name) { // setter\n",
    "        this.name = name;     // instance variable on the left, local variable on the right\n",
    "    }\n",
    "    public void setLeague(String league) { // setter\n",
    "        this.league = league;     // instance variable on the left, local variable on the right\n",
    "    }\n",
    "    public void setPosition(String position) { // setter\n",
    "        this.position = position;     // instance variable on the left, local variable on the right\n",
    "    }\n",
    "    // getter/accessor, getter used to return private instance variable (encapsulated), return type is String\n",
    "    public void displayInfo() {\n",
    "        System.out.println(\"name:\" + name);\n",
    "        System.out.println(\"league:\" + league);\n",
    "        System.out.println(\"position:\" + position);\n",
    "\n",
    "    }\n",
    "    public static void main(String[] args) {  \n",
    "        SoccerDynamic soccer1 = new SoccerDynamic(); // no argument constructor\n",
    "        SoccerDynamic soccer2 = new SoccerDynamic(\"Ronaldo\", \"Saudi Pro\", \"ST\"); // one argument constructor\n",
    "\n",
    "        System.out.println(\"Info:\"); // accessing getter\n",
    "        System.out.println(\"Player 1:\");\n",
    "        soccer1.displayInfo();\n",
    "        System.out.println(); \n",
    "\n",
    "        System.out.println(\"Player 2:\");\n",
    "        soccer2.displayInfo();\n",
    "        System.out.println();\n",
    "    }\n",
    "}\n",
    "// IJava activation\n",
    "SoccerDynamic.main(null);"
   ]
  },
  {
   "cell_type": "markdown",
   "metadata": {},
   "source": [
    "# Java Console Games"
   ]
  }
 ],
 "metadata": {
  "kernelspec": {
   "display_name": "Java",
   "language": "java",
   "name": "java"
  },
  "language_info": {
   "codemirror_mode": "java",
   "file_extension": ".jshell",
   "mimetype": "text/x-java-source",
   "name": "Java",
   "pygments_lexer": "java",
   "version": "20.0.1"
  },
  "orig_nbformat": 4
 },
 "nbformat": 4,
 "nbformat_minor": 2
}
