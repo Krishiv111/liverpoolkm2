{
 "cells": [
  {
   "attachments": {},
   "cell_type": "markdown",
   "metadata": {},
   "source": [
    "---\n",
    "layout: post\n",
    "title: Unit 5 Hacks \n",
    "toc: true\n",
    "comments: true\n",
    "description: Unit 5 Hacks\n",
    "courses: { csa: {week: 8} }\n",
    "type: tangibles\n",
    "---"
   ]
  },
  {
   "attachments": {},
   "cell_type": "markdown",
   "metadata": {},
   "source": [
    "# Hacks"
   ]
  },
  {
   "attachments": {},
   "cell_type": "markdown",
   "metadata": {},
   "source": [
    "**5.1-5.3 Hacks**\n",
    "\n",
    "**POPCORN HACKS: 0.2**\n",
    "\n",
    "**Create a simple To-Do List that utilizes the following (0.8):**\n",
    "\n",
    "1. Private and Public Declaration\n",
    "\n",
    "2. Constructor\n",
    "\n",
    "3. Mutable Array containing To-Do List Items\n",
    "\n",
    "Make sure to add descriptive comments that are describing your code!"
   ]
  },
  {
   "cell_type": "code",
   "execution_count": 4,
   "metadata": {},
   "outputs": [
    {
     "name": "stdout",
     "output_type": "stream",
     "text": [
      "Soccer To-Do List:\n",
      "Buy new soccer ball\n",
      "Practice dribbling for 30 minutes\n",
      "Watch a soccer game on TV\n"
     ]
    }
   ],
   "source": [
    "import java.util.ArrayList;\n",
    "// class name \n",
    "public class SoccerToDoList {\n",
    "    private ArrayList<String> tasks;\n",
    "// methods\n",
    "    public SoccerToDoList() {\n",
    "        this.tasks = new ArrayList<String>();\n",
    "    }\n",
    "\n",
    "    public void addTask(String task) {\n",
    "        this.tasks.add(task);\n",
    "    }\n",
    "// create to do list\n",
    "    public void displayTasks() {\n",
    "        System.out.println(\"Soccer To-Do List:\");\n",
    "        for (String task : tasks) {\n",
    "            System.out.println(task);\n",
    "        }\n",
    "    }\n",
    "\n",
    "    public static void main(String[] args) {\n",
    "        SoccerToDoList soccerTasks = new SoccerToDoList();\n",
    "// sample taksk \n",
    "        soccerTasks.addTask(\"Buy new soccer ball\");\n",
    "        soccerTasks.addTask(\"Practice dribbling for 30 minutes\");\n",
    "        soccerTasks.addTask(\"Watch a soccer game on TV\");\n",
    "\n",
    "        soccerTasks.displayTasks();\n",
    "    }\n",
    "}\n",
    "\n",
    "SoccerToDoList.main(null);"
   ]
  },
  {
   "attachments": {},
   "cell_type": "markdown",
   "metadata": {},
   "source": [
    "**5.9-5.10 Hacks**\n",
    "\n",
    "**POPCORN HACKS: 0.2**\n",
    "\n",
    "**Write a two sentence reflection on the social and ethical implications of programming. (0.8)**"
   ]
  },
  {
   "cell_type": "markdown",
   "metadata": {},
   "source": [
    "# 2 Sentence Refletions \n",
    "- The reasone why social and ethical implication of programmign are important is beucase it allows shapes our didgital worlds by having correct objects implying that technokoy can be used for betterment of society. In addition when we document code and create clean and good coding enviorment it allows us to create a more workplaces for coding"
   ]
  },
  {
   "cell_type": "markdown",
   "metadata": {},
   "source": [
    "# Hacks 2nd Part \n",
    "- Make simple banking application. The application should be able to handle new customer bank account requests, processing deposits and withdrawals, and maintaining accurate records of transactions and balances. The application should also track the bank's total supply of money. Your code should utilize the following concepts(0.8):\n",
    "- Scope and Access: Private and public modifiers used in classes.\n",
    "- Method Decomposition: Each class has its own responsibility; methods are tasked with single operations.\n",
    "- Non-Void Methods: Methods like getBalance(), getAccountNumber(), and getTotalBankDeposits().\n",
    "- Void Methods: Methods like deposit(), withdraw(), and processTransaction().\n",
    "- Formal Parameters: Used in methods throughout the classes.\n",
    "- Reference vs. Primitive Parameters: Primitive types for account numbers, balances, etc., and references for account objects"
   ]
  },
  {
   "cell_type": "code",
   "execution_count": null,
   "metadata": {},
   "outputs": [],
   "source": [
    "import java.util.ArrayList;\n",
    "import java.util.List;\n",
    "\n",
    "class Bank {\n",
    "    private List<Account> accounts;\n",
    "    private double totalBankDeposits;\n",
    "\n",
    "    public Bank() {\n",
    "        accounts = new ArrayList<>();\n",
    "        totalBankDeposits = 0.0;\n",
    "    }\n",
    "\n",
    "    public Account createAccount(int accountNumber, double initialBalance) {\n",
    "        Account account = new Account(accountNumber, initialBalance);\n",
    "        accounts.add(account);\n",
    "        totalBankDeposits += initialBalance;\n",
    "        return account;\n",
    "    }\n",
    "\n",
    "    public double getTotalBankDeposits() {\n",
    "        return totalBankDeposits;\n",
    "    }\n",
    "}\n",
    "\n",
    "class Account {\n",
    "    private int accountNumber;\n",
    "    private double balance;\n",
    "\n",
    "    public Account(int accountNumber, double initialBalance) {\n",
    "        this.accountNumber = accountNumber;\n",
    "        this.balance = initialBalance;\n",
    "    }\n",
    "\n",
    "    public double getBalance() {\n",
    "        return balance;\n",
    "    }\n",
    "\n",
    "    public int getAccountNumber() {\n",
    "        return accountNumber;\n",
    "    }\n",
    "\n",
    "    public void deposit(double amount) {\n",
    "        if (amount > 0) {\n",
    "            balance += amount;\n",
    "        }\n",
    "    }\n",
    "\n",
    "    public boolean withdraw(double amount) {\n",
    "        if (amount > 0 && balance >= amount) {\n",
    "            balance -= amount;\n",
    "            return true;\n",
    "        }\n",
    "        return false;\n",
    "    }\n",
    "}\n",
    "\n",
    "public class BankingApplication {\n",
    "    public static void main(String[] args) {\n",
    "        Bank bank = new Bank();\n",
    "\n",
    "        Account account1 = bank.createAccount(1001, 1000.0);\n",
    "        Account account2 = bank.createAccount(1002, 2000.0);\n",
    "\n",
    "        account1.deposit(500.0);\n",
    "        account2.withdraw(1000.0);\n",
    "\n",
    "        System.out.println(\"Total Bank Deposits: $\" + bank.getTotalBankDeposits());\n",
    "        System.out.println(\"Account 1 Balance: $\" + account1.getBalance());\n",
    "        System.out.println(\"Account 2 Balance: $\" + account2.getBalance());\n",
    "    }\n",
    "}\n"
   ]
  }
 ],
 "metadata": {
  "kernelspec": {
   "display_name": "Java",
   "language": "java",
   "name": "java"
  },
  "language_info": {
   "codemirror_mode": "java",
   "file_extension": ".jshell",
   "mimetype": "text/x-java-source",
   "name": "java",
   "pygments_lexer": "java",
   "version": "20.0.1"
  },
  "orig_nbformat": 4,
  "vscode": {
   "interpreter": {
    "hash": "e7370f93d1d0cde622a1f8e1c04877d8463912d04d973331ad4851f04de6915a"
   }
  }
 },
 "nbformat": 4,
 "nbformat_minor": 2
}
