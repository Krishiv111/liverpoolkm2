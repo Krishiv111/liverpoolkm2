{
 "cells": [
  {
   "cell_type": "markdown",
   "metadata": {},
   "source": [
    "---\n",
    "layout: post\n",
    "title: FRQ MINI LAB Krishiv \n",
    "description: classes lesson\n",
    "type: tangibles\n",
    "courses: { csa: {week: 4}}\n",
    "---"
   ]
  },
  {
   "cell_type": "markdown",
   "metadata": {},
   "source": [
    "# Key Vocab \n",
    "**Objects**\n",
    " - **Fields** - is a part of a class that describes properties of an object \n",
    "- **Methods** - this is a part of a class that what actions an object can perform \n",
    " - **Constructor** - Describes how the object is created\n",
    " - **Acsess Modifiers** - public and private, determine the classes acsess you have to a class, if a class is public you have acess to objects from outside the class but if its private you have acsess to objects inside the class."
   ]
  },
  {
   "cell_type": "markdown",
   "metadata": {},
   "source": [
    "<style>\n",
    " .fix-align {\n",
    "   text-align: center;\n",
    "   position: relative;\n",
    " }\n",
    "</style>\n",
    "\n",
    " <div class=\"center-image\">\n",
    "        <img src=\"/liverpoolkm2/images/inst1.png\" alt=\"Smaller Image\" width=\"900\" height=\"800\">\n",
    "    </div>\n",
    "<div class=\"center-image\">\n",
    "        <img src=\"/liverpoolkm2/images/inst2.png\" alt=\"Smaller Image\" width=\"900\" height=\"800\">\n",
    "    </div>\n"
   ]
  },
  {
   "cell_type": "markdown",
   "metadata": {},
   "source": [
    "# How to Write A Class!\n",
    "- To write a Class its important we have our objects in place. "
   ]
  },
  {
   "cell_type": "code",
   "execution_count": null,
   "metadata": {
    "vscode": {
     "languageId": "java"
    }
   },
   "outputs": [],
   "source": [
    "public class Book {\n",
    "    private String title;// string is a collection of characters\n",
    "    private double price; }// double is a way to organize decimals .\n",
    "    // This has the class name and the methods which use private to be acessed only throughout the key\n"
   ]
  },
  {
   "cell_type": "code",
   "execution_count": null,
   "metadata": {
    "vscode": {
     "languageId": "java"
    }
   },
   "outputs": [],
   "source": [
    "public Book(String bookTitle, double bookPrice) {// Constructors\n",
    "    this.title = bookTitle; // this is a way to initialize the variables\n",
    "    this.price = bookPrice; // intialize the variables... AKA Constructor \n",
    "}\n",
    "\n",
    "public String getTitle() {\n",
    "    return title; //Methods \n",
    "}\n",
    "\n",
    "public double getPrice() {\n",
    "    return price;\n",
    "}// Return is used to get the price of each book, void methods are the opposite of this "
   ]
  },
  {
   "cell_type": "code",
   "execution_count": 3,
   "metadata": {
    "vscode": {
     "languageId": "java"
    }
   },
   "outputs": [],
   "source": [
    "public String getBookInfo() {\n",
    "    return title + \" - \" + price;\n",
    "}// A seaperate method to get the book info of the title and price into a single string with the hyphen"
   ]
  },
  {
   "cell_type": "markdown",
   "metadata": {},
   "source": [
    "## What is A  Subclass\n",
    "- This is a way to take the previous created classes and inherit the objects setup before so in this case we would use the public variables set up from the public objects in the Book class"
   ]
  },
  {
   "cell_type": "code",
   "execution_count": null,
   "metadata": {
    "vscode": {
     "languageId": "java"
    }
   },
   "outputs": [],
   "source": [
    "public class Textbook extends Book {\n",
    "    private int edition;} // Private instance variable to store the edition number\n"
   ]
  },
  {
   "cell_type": "code",
   "execution_count": null,
   "metadata": {
    "vscode": {
     "languageId": "java"
    }
   },
   "outputs": [],
   "source": [
    " // Constructor for the Textbook class\n",
    " public Textbook(String bookTitle, double bookPrice, int bookEdition) {\n",
    "    // Call the constructor of the superclass (Book) to initialize title and price\n",
    "    super(bookTitle, bookPrice);\n",
    "    \n",
    "    // Initialize the edition specific to the Textbook class\n",
    "    edition = bookEdition;\n",
    "}"
   ]
  },
  {
   "cell_type": "code",
   "execution_count": null,
   "metadata": {
    "vscode": {
     "languageId": "java"
    }
   },
   "outputs": [],
   "source": [
    " // Getter method to retrieve the edition\n",
    " public int getEdition() {\n",
    "    return edition;\n",
    "}"
   ]
  },
  {
   "cell_type": "code",
   "execution_count": null,
   "metadata": {
    "vscode": {
     "languageId": "java"
    }
   },
   "outputs": [],
   "source": [
    " // Method to check if this textbook can substitute for another textbook\n",
    " public boolean canSubstituteFor(Textbook other) {\n",
    "    return other.getTitle().equals(getTitle()) && edition >= other.getEdition();\n",
    "}"
   ]
  },
  {
   "cell_type": "code",
   "execution_count": null,
   "metadata": {
    "vscode": {
     "languageId": "java"
    }
   },
   "outputs": [],
   "source": [
    "@Override\n",
    "public String getBookInfo() {\n",
    "    // Call the getTitle() method from the superclass (Book) to get the title\n",
    "    // Concatenate it with the edition specific to Textbook and the price\n",
    "    return super.getTitle() + \" (Edition \" + edition + \") - \" + super.getPrice();\n",
    "}"
   ]
  },
  {
   "cell_type": "code",
   "execution_count": 10,
   "metadata": {
    "vscode": {
     "languageId": "java"
    }
   },
   "outputs": [],
   "source": [
    "public class Book {\n",
    "    private String title;\n",
    "    private double price;\n",
    "\n",
    "    public Book(String bookTitle, double bookPrice) {\n",
    "        this.title = bookTitle; // this is a way to initialize the variables\n",
    "        this.price = bookPrice; // intialize the variables \n",
    "    }\n",
    "\n",
    "    public String getTitle() {\n",
    "        return title; // This is get the get method that helps you get the variable of the code to initialize the variabls \n",
    "    }\n",
    "\n",
    "    public double getPrice() {\n",
    "        return price;\n",
    "    }\n",
    "\n",
    "    public String getBookInfo() {\n",
    "        return title + \" - \" + price;\n",
    "    }//Get the book info the title and the price through a string \n",
    "}\n",
    "\n",
    "public class Textbook extends Book {\n",
    "    private int edition; // Private instance variable to store the edition number\n",
    "\n",
    "    // Constructor for the Textbook class\n",
    "    public Textbook(String bookTitle, double bookPrice, int bookEdition) {\n",
    "        // Call the constructor of the superclass (Book) to initialize title and price\n",
    "        super(bookTitle, bookPrice);\n",
    "        \n",
    "        // Initialize the edition specific to the Textbook class\n",
    "        edition = bookEdition;\n",
    "    }\n",
    "\n",
    "    // Getter method to retrieve the edition\n",
    "    public int getEdition() {\n",
    "        return edition;\n",
    "    }\n",
    "\n",
    "    // Method to check if this textbook can substitute for another textbook\n",
    "    public boolean canSubstituteFor(Textbook other) {\n",
    "        return other.getTitle().equals(getTitle()) && edition >= other.getEdition();\n",
    "    }\n",
    "\n",
    "    // Overriding the getBookInfo() method from the Book class use for eero checking\n",
    "    @Override\n",
    "    public String getBookInfo() {\n",
    "        // Call the getTitle() method from the superclass (Book) to get the title\n",
    "        // Concatenate it with the edition specific to Textbook and the price\n",
    "        return super.getTitle() + \" (Edition \" + edition + \") - \" + super.getPrice();\n",
    "    }\n",
    "}\n"
   ]
  },
  {
   "cell_type": "code",
   "execution_count": 15,
   "metadata": {
    "vscode": {
     "languageId": "java"
    }
   },
   "outputs": [],
   "source": [
    "public class Person {\n",
    "    // Fields (Properties)\n",
    "    private String name;\n",
    "    private int age;\n",
    "\n",
    "    // Constructor\n",
    "    public Person(String name, int age) {\n",
    "        this.name = name;\n",
    "        this.age = age;\n",
    "    }\n",
    "\n",
    "    // Method to Get Name\n",
    "    public String getName() {\n",
    "        return name;\n",
    "    }\n",
    "\n",
    "    // Method to Get Age\n",
    "    public int getAge() {\n",
    "        return age;\n",
    "    }\n",
    "\n",
    "    // Method to Set Name\n",
    "    public void setName(String name) {\n",
    "        this.name = name;\n",
    "    }\n",
    "\n",
    "    // Method to Set Age\n",
    "    public void setAge(int age) {\n",
    "        this.age = age;\n",
    "    }\n",
    "\n",
    "    // Method to Display Information\n",
    "    public void displayInfo() {\n",
    "        System.out.println(\"Name: \" + name);\n",
    "        System.out.println(\"Age: \" + age);\n",
    "    }\n",
    "\n",
    "    // Main Method\n",
    "    public static void main(String[] args) {\n",
    "        // Creating a Person object using the constructor\n",
    "        Person person1 = new Person(\"Alice\", 30);\n",
    "\n",
    "        // Accessing fields and methods of the Person object\n",
    "        person1.displayInfo();\n",
    "\n",
    "        // Changing the name using a method\n",
    "        person1.setName(\"Bob\");\n",
    "        person1.displayInfo();\n",
    "    }\n",
    "}\n"
   ]
  },
  {
   "cell_type": "markdown",
   "metadata": {},
   "source": [
    "# Reflections \n",
    "- This frq is a big part of understanding the basics and uderstanding what seaperate objects are in java. If you are albe to comphrend these ideas then you will be able to figure out what parts you need to get in order to, get the correct understanding of the code. With classes you should be able to work ahead of "
   ]
  }
 ],
 "metadata": {
  "kernelspec": {
   "display_name": "Java",
   "language": "java",
   "name": "java"
  },
  "language_info": {
   "codemirror_mode": "java",
   "file_extension": ".jshell",
   "mimetype": "text/x-java-source",
   "name": "Java",
   "pygments_lexer": "java",
   "version": "20.0.1"
  },
  "orig_nbformat": 4
 },
 "nbformat": 4,
 "nbformat_minor": 2
}
