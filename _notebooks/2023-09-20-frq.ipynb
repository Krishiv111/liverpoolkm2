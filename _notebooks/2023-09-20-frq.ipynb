{
 "cells": [
  {
   "cell_type": "markdown",
   "metadata": {},
   "source": [
    "---\n",
    "layout: post\n",
    "title: FRQ MINI LAB Krishiv \n",
    "description: classes lesson\n",
    "type: tangibles\n",
    "courses: { csa: {week: 4}}\n",
    "---"
   ]
  },
  {
   "cell_type": "markdown",
   "metadata": {},
   "source": [
    "<style>\n",
    " .fix-align {\n",
    "   text-align: center;\n",
    "   position: relative;\n",
    " }\n",
    "</style>\n",
    "\n",
    " <div class=\"center-image\">\n",
    "        <img src=\"/liverpoolkm2/images/inst1.png\" alt=\"Smaller Image\" width=\"900\" height=\"800\">\n",
    "    </div>\n",
    "<div class=\"center-image\">\n",
    "        <img src=\"/liverpoolkm2/images/inst2.png\" alt=\"Smaller Image\" width=\"900\" height=\"800\">\n",
    "    </div>\n"
   ]
  },
  {
   "cell_type": "markdown",
   "metadata": {},
   "source": [
    "## Approach \n",
    "- The way I approached this problems was by making sure I understood each object, then I competed the college board class by intializing all the variables and making a better class. Then I wanted to learn about a subclass and how you may incorporate that with kepping all varaibles in mind. "
   ]
  },
  {
   "cell_type": "markdown",
   "metadata": {},
   "source": [
    "# Key Vocab \n",
    "**Objects**\n",
    " - **Fields** - is a part of a class that describes properties of an object \n",
    "- **Methods** - this is a part of a class that what actions an object can perform \n",
    " - **Constructor** - Describes how the object is created\n",
    " - **Acsess Modifiers** - public and private, determine the classes acsess you have to a class, if a class is public you have acess to objects from outside the class but if its private you have acsess to objects inside the class."
   ]
  },
  {
   "cell_type": "markdown",
   "metadata": {},
   "source": [
    "# How to Write A Class!\n",
    "- To write a Class its important we have our objects in place. "
   ]
  },
  {
   "cell_type": "code",
   "execution_count": 38,
   "metadata": {
    "vscode": {
     "languageId": "java"
    }
   },
   "outputs": [],
   "source": [
    "public class Book {\n",
    "    private String title;// string is a collection of characters\n",
    "    private double price; }// double is a way to organize decimals .\n",
    "    // This has the class name and the methods which use private to be acessed only throughout the key\n"
   ]
  },
  {
   "cell_type": "code",
   "execution_count": null,
   "metadata": {
    "vscode": {
     "languageId": "java"
    }
   },
   "outputs": [],
   "source": [
    "public Book(String bookTitle, double bookPrice) {// Constructors\n",
    "    this.title = bookTitle; // this is a way to initialize the variables\n",
    "    this.price = bookPrice; // intialize the variables... AKA Constructor \n",
    "}\n",
    "\n",
    "public String getTitle() {\n",
    "    return title(); //Methods \n",
    "}\n",
    "\n",
    "public double getPrice() {\n",
    "    return price();\n",
    "}// Return is used to get the price of each book, void methods are the opposite of this "
   ]
  },
  {
   "cell_type": "code",
   "execution_count": null,
   "metadata": {
    "vscode": {
     "languageId": "java"
    }
   },
   "outputs": [],
   "source": [
    "public String getBookInfo() {\n",
    "    return title + \" - \" + price;\n",
    "}// A seaperate method to get the book info of the title and price into a single string with the hyphen"
   ]
  },
  {
   "cell_type": "markdown",
   "metadata": {},
   "source": [
    "## What is A  Subclass\n",
    "- This is a way to take the previous created classes and inherit the objects setup before so in this case we would use the public variables set up from the public objects in the Book class"
   ]
  },
  {
   "cell_type": "code",
   "execution_count": null,
   "metadata": {
    "vscode": {
     "languageId": "java"
    }
   },
   "outputs": [],
   "source": [
    "public class Textbook extends Book {\n",
    "    private int edition;\n",
    "} // Private instance variable to store the edition number\n"
   ]
  },
  {
   "cell_type": "code",
   "execution_count": null,
   "metadata": {
    "vscode": {
     "languageId": "java"
    }
   },
   "outputs": [],
   "source": [
    " // Constructor for the Textbook class\n",
    " public Textbook(String bookTitle, double bookPrice, int bookEdition) {\n",
    "    // Call the constructor of the superclass (Book) to initialize title and price\n",
    "    super(bookTitle, bookPrice);\n",
    "    \n",
    "    // Initialize the edition specific to the Textbook class\n",
    "    edition = bookEdition;\n",
    "}"
   ]
  },
  {
   "cell_type": "code",
   "execution_count": null,
   "metadata": {
    "vscode": {
     "languageId": "java"
    }
   },
   "outputs": [],
   "source": [
    " // Getter method to retrieve the edition\n",
    " public int getEdition() {\n",
    "    return edition;\n",
    "}"
   ]
  },
  {
   "cell_type": "code",
   "execution_count": null,
   "metadata": {
    "vscode": {
     "languageId": "java"
    }
   },
   "outputs": [],
   "source": [
    " // Method to check if this textbook can substitute for another textbook\n",
    " public boolean canSubstituteFor(Textbook other) {\n",
    "    return other.getTitle().equals(getTitle()) && edition >= other.getEdition();\n",
    "}"
   ]
  },
  {
   "cell_type": "code",
   "execution_count": null,
   "metadata": {
    "vscode": {
     "languageId": "java"
    }
   },
   "outputs": [],
   "source": [
    "@Override\n",
    "public String getBookInfo() {\n",
    "    // Call the getTitle() method from the superclass (Book) to get the title\n",
    "    // Concatenate it with the edition specific to Textbook and the price\n",
    "    return super.getTitle() + \" (Edition \" + edition + \") - \" + super.getPrice();\n",
    "}"
   ]
  },
  {
   "cell_type": "code",
   "execution_count": 57,
   "metadata": {
    "vscode": {
     "languageId": "java"
    }
   },
   "outputs": [],
   "source": [
    "public class Book {\n",
    "    private String title;\n",
    "    private double price;\n",
    "\n",
    "    public Book(String bookTitle, double bookPrice) {\n",
    "        this.title = bookTitle; // this is a way to initialize the variables\n",
    "        this.price = bookPrice; // intialize the variables \n",
    "    }\n",
    "\n",
    "    public String getTitle() {\n",
    "        return title; // This is get the get method that helps you get the variable of the code to initialize the variabls \n",
    "    }\n",
    "\n",
    "    public double getPrice() {\n",
    "        return price;\n",
    "    }\n",
    "\n",
    "    public String getBookInfo() {\n",
    "        return title + \" - \" + price;\n",
    "    }//Get the book info the title and the price through a string \n",
    "}\n",
    "\n",
    "public class Textbook extends Book {\n",
    "    private int edition; // Private instance variable to store the edition number\n",
    "\n",
    "    // Constructor for the Textbook class\n",
    "    public Textbook(String bookTitle, double bookPrice, int bookEdition) {\n",
    "        // Call the constructor of the superclass (Book) to initialize title and price\n",
    "        super(bookTitle, bookPrice);\n",
    "        \n",
    "        // Initialize the edition specific to the Textbook class\n",
    "        edition = bookEdition;\n",
    "    }\n",
    "\n",
    "    // Getter method to retrieve the edition\n",
    "    public int getEdition() {\n",
    "        return edition;\n",
    "    }\n",
    "\n",
    "    // Method to check if this textbook can substitute for another textbook\n",
    "    public boolean canSubstituteFor(Textbook other) {\n",
    "        return other.getTitle().equals(getTitle()) && edition >= other.getEdition();\n",
    "    }\n",
    "\n",
    "    // Overriding the getBookInfo() method from the Book class use for eero checking\n",
    "    @Override\n",
    "    public String getBookInfo() {\n",
    "        // Call the getTitle() method from the superclass (Book) to get the title\n",
    "        // Concatenate it with the edition specific to Textbook and the price\n",
    "        return super.getTitle() + \" (Edition \" + edition + \") - \" + super.getPrice();\n",
    "    }\n",
    "}\n"
   ]
  },
  {
   "cell_type": "code",
   "execution_count": 62,
   "metadata": {
    "vscode": {
     "languageId": "java"
    }
   },
   "outputs": [
    {
     "name": "stdout",
     "output_type": "stream",
     "text": [
      "Info:\n",
      "Textbook 1:\n",
      "Default Title (Edition 1) - 0.0\n",
      "\n",
      "Textbook 2:\n",
      "Biology 2015 (Edition 3) - 59.99\n",
      "\n"
     ]
    }
   ],
   "source": [
    "public class Textbook {\n",
    "    private String title;  // Private instance variable to store the textbook title\n",
    "    private double price;  // Private instance variable to store the textbook price\n",
    "    private int edition;   // Private instance variable to store the textbook edition\n",
    "\n",
    "    // Parameterless constructor to set default values\n",
    "    public Textbook() {\n",
    "        this.title = \"Default Title\";    // Set the default title using a static string\n",
    "        this.price = 0.0;               // Set the default price\n",
    "        this.edition = 1;               // Set the default edition\n",
    "    }\n",
    "\n",
    "    // Constructor with three parameters to initialize instance variables\n",
    "    public Textbook(String title, double price, int edition) {\n",
    "        this.title = title;\n",
    "        this.price = price;\n",
    "        this.edition = edition;\n",
    "    }\n",
    "\n",
    "    // Setter method to change the textbook title\n",
    "    public void setTitle(String title) {\n",
    "        this.title = title;\n",
    "    }\n",
    "\n",
    "    // Setter method to change the textbook price\n",
    "    public void setPrice(double price) {\n",
    "        this.price = price;\n",
    "    }\n",
    "\n",
    "    // Setter method to change the textbook edition\n",
    "    public void setEdition(int edition) {\n",
    "        this.edition = edition;\n",
    "    }\n",
    "\n",
    "    // Get the textbook information as a string\n",
    "    public String getBookInfo() {\n",
    "        return title + \" (Edition \" + edition + \") - \" + price;\n",
    "    }\n",
    "\n",
    "    public static void main(String[] args) {\n",
    "        // Create instances of Textbook using constructors\n",
    "        Textbook textbook1 = new Textbook(); // Parameterless constructor\n",
    "        Textbook textbook2 = new Textbook(\"Biology 2015\", 59.99, 3); // Constructor with parameters\n",
    "\n",
    "        System.out.println(\"Info:\");\n",
    "        System.out.println(\"Textbook 1:\");\n",
    "        System.out.println(textbook1.getBookInfo());\n",
    "        System.out.println();\n",
    "\n",
    "        System.out.println(\"Textbook 2:\");\n",
    "        System.out.println(textbook2.getBookInfo());\n",
    "        System.out.println();\n",
    "    }\n",
    "}\n",
    "Textbook.main(null);"
   ]
  },
  {
   "cell_type": "markdown",
   "metadata": {},
   "source": [
    "<style>\n",
    " .fix-align {\n",
    "   text-align: center;\n",
    "   position: relative;\n",
    " }\n",
    "</style>\n",
    "\n",
    " <div class=\"center-image\">\n",
    "        <img src=\"/liverpoolkm2/images/rb1.png\" alt=\"Smaller Image\" width=\"900\" height=\"800\">\n",
    "    </div>\n",
    "<div class=\"center-image\">\n",
    "        <img src=\"/liverpoolkm2/images/rb2.png\" alt=\"Smaller Image\" width=\"900\" height=\"800\">\n",
    "    </div>"
   ]
  },
  {
   "cell_type": "markdown",
   "metadata": {},
   "source": [
    "# Reflections \n",
    "- This frq is a big part of understanding the basics and uderstanding what seaperate objects are in java. If you are albe to comphrend these ideas then you will be able to figure out what parts you need to get in order to, get the correct understanding of the code. With classes you should be able to work ahead of. Some mistakes I made were not understanding the syntax of the. Also it inportant that you understand why specific elements of the code."
   ]
  },
  {
   "cell_type": "markdown",
   "metadata": {},
   "source": [
    "# Crossover Corrections \n",
    "- With the crossover review I understood, that my frq was completed but it is good idea to get an output of the to better my project. For this reason I made sure to test my class to make sure the input and output functions were working, althoug this isnt required to do by college board but it is important to do to get a better understanding of the code. In addiiton , some of my code didnt have the best documentaion so i did a chatgpt review as well as a self assesment to make sure I am able to explain all parts of the code"
   ]
  }
 ],
 "metadata": {
  "kernelspec": {
   "display_name": "Java",
   "language": "java",
   "name": "java"
  },
  "language_info": {
   "codemirror_mode": "java",
   "file_extension": ".jshell",
   "mimetype": "text/x-java-source",
   "name": "Java",
   "pygments_lexer": "java",
   "version": "20.0.1"
  },
  "orig_nbformat": 4
 },
 "nbformat": 4,
 "nbformat_minor": 2
}
